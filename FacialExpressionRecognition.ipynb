{
 "cells": [
  {
   "cell_type": "code",
   "execution_count": 1,
   "metadata": {
    "id": "591_CmGY3AeJ"
   },
   "outputs": [],
   "source": [
    "import numpy as np\n",
    "import tensorflow as tf\n",
    "import matplotlib.pyplot as plt\n",
    "%matplotlib inline"
   ]
  },
  {
   "cell_type": "code",
   "execution_count": 2,
   "metadata": {
    "id": "_szUQYg43EPc"
   },
   "outputs": [],
   "source": [
    "from sklearn.utils import shuffle"
   ]
  },
  {
   "cell_type": "code",
   "execution_count": 3,
   "metadata": {
    "id": "PIoch0R73wNk"
   },
   "outputs": [],
   "source": [
    "def getData(balance_ones = True , Ntest= 1000):\n",
    "  X =[]\n",
    "  Y =[]\n",
    "  first = True\n",
    "  for line in open('fer/fer2013.csv'):\n",
    "    if first:\n",
    "      first = False\n",
    "    else:\n",
    "      row = line.split(',')\n",
    "      Y.append(int(row[0]))\n",
    "      X.append([int(p) for p in row[1].split()])\n",
    "  \n",
    "  X,Y = np.array(X)/255.0 , np.array(Y)\n",
    "  X , Y = shuffle(X,Y)\n",
    "  Xtrain , Ytrain = X[:-Ntest] , Y[:-Ntest]\n",
    "  Xvalid , Yvalid = X[-Ntest:] , Y[-Ntest:]\n",
    "  if balance_ones:\n",
    "    X0,Y0 = Xtrain[Ytrain!=1, :] , Ytrain[Ytrain!=1]\n",
    "    X1 = Xtrain[Ytrain==1, :]\n",
    "    X1 = np.repeat(X1 , 9 , axis=0)\n",
    "    Xtrain = np.vstack([X0,X1])\n",
    "    Ytrain = np.concatenate((Y0 , [1]*len(X1)))\n",
    "    return Xtrain , Ytrain , Xvalid , Yvalid"
   ]
  },
  {
   "cell_type": "code",
   "execution_count": 4,
   "metadata": {
    "id": "F_2FfeKT35DB"
   },
   "outputs": [],
   "source": [
    "def getImageData():\n",
    "  Xtrain , Ytrain , Xvalid , Yvalid = getData()\n",
    "  N,D = Xtrain.shape\n",
    "  d = int(np.sqrt(D))\n",
    "  Xtrain = Xtrain.reshape(-1,d,d,1)\n",
    "  Xvalid = Xvalid.reshape(-1,d,d,1)\n",
    "  return Xtrain , Ytrain , Xvalid , Yvalid"
   ]
  },
  {
   "cell_type": "code",
   "execution_count": 5,
   "metadata": {
    "id": "bKCucmsO5JAS"
   },
   "outputs": [],
   "source": [
    "model = tf.keras.models.Sequential([tf.keras.layers.Conv2D(16, (3,3), activation='relu', input_shape=(48, 48, 1)),\n",
    "                                    tf.keras.layers.MaxPooling2D(2,2),\n",
    "                                    tf.keras.layers.Conv2D(32, (3,3), activation='relu'),\n",
    "                                    tf.keras.layers.MaxPooling2D(2,2),\n",
    "                                    tf.keras.layers.Conv2D(64, (3,3), activation='relu'),\n",
    "                                    tf.keras.layers.MaxPooling2D(2,2),\n",
    "                                    tf.keras.layers.Flatten(),\n",
    "                                    tf.keras.layers.Dense(512, activation='relu'),\n",
    "                                    tf.keras.layers.Dense(7, activation='softmax')])"
   ]
  },
  {
   "cell_type": "code",
   "execution_count": 6,
   "metadata": {
    "colab": {
     "base_uri": "https://localhost:8080/"
    },
    "id": "hhxVrrv36jZB",
    "outputId": "822d38c9-dfc1-4f61-ab8c-476bc5050753"
   },
   "outputs": [
    {
     "name": "stdout",
     "output_type": "stream",
     "text": [
      "Model: \"sequential\"\n",
      "_________________________________________________________________\n",
      "Layer (type)                 Output Shape              Param #   \n",
      "=================================================================\n",
      "conv2d (Conv2D)              (None, 46, 46, 16)        160       \n",
      "_________________________________________________________________\n",
      "max_pooling2d (MaxPooling2D) (None, 23, 23, 16)        0         \n",
      "_________________________________________________________________\n",
      "conv2d_1 (Conv2D)            (None, 21, 21, 32)        4640      \n",
      "_________________________________________________________________\n",
      "max_pooling2d_1 (MaxPooling2 (None, 10, 10, 32)        0         \n",
      "_________________________________________________________________\n",
      "conv2d_2 (Conv2D)            (None, 8, 8, 64)          18496     \n",
      "_________________________________________________________________\n",
      "max_pooling2d_2 (MaxPooling2 (None, 4, 4, 64)          0         \n",
      "_________________________________________________________________\n",
      "flatten (Flatten)            (None, 1024)              0         \n",
      "_________________________________________________________________\n",
      "dense (Dense)                (None, 512)               524800    \n",
      "_________________________________________________________________\n",
      "dense_1 (Dense)              (None, 7)                 3591      \n",
      "=================================================================\n",
      "Total params: 551,687\n",
      "Trainable params: 551,687\n",
      "Non-trainable params: 0\n",
      "_________________________________________________________________\n"
     ]
    }
   ],
   "source": [
    "model.summary()"
   ]
  },
  {
   "cell_type": "code",
   "execution_count": 7,
   "metadata": {
    "id": "_9GumoHV60lB"
   },
   "outputs": [],
   "source": [
    "Xtrain , Ytrain , Xvalid , Yvalid = getImageData()"
   ]
  },
  {
   "cell_type": "code",
   "execution_count": 8,
   "metadata": {
    "id": "81f6j2hS7cM5"
   },
   "outputs": [],
   "source": [
    "model.compile(optimizer='adam', loss='sparse_categorical_crossentropy', metrics=['accuracy'])"
   ]
  },
  {
   "cell_type": "code",
   "execution_count": 9,
   "metadata": {
    "colab": {
     "base_uri": "https://localhost:8080/"
    },
    "id": "3hG9qIIN8rTx",
    "outputId": "3cf24d5a-97be-44a9-84a0-3ca0d2dbb677"
   },
   "outputs": [
    {
     "name": "stdout",
     "output_type": "stream",
     "text": [
      "Epoch 1/15\n",
      "1223/1223 [==============================] - 39s 32ms/step - loss: 1.6400 - accuracy: 0.3630\n",
      "Epoch 2/15\n",
      "1223/1223 [==============================] - 40s 32ms/step - loss: 1.2850 - accuracy: 0.5135\n",
      "Epoch 3/15\n",
      "1223/1223 [==============================] - 39s 32ms/step - loss: 1.1047 - accuracy: 0.5840\n",
      "Epoch 4/15\n",
      "1223/1223 [==============================] - 38s 31ms/step - loss: 0.9928 - accuracy: 0.6243\n",
      "Epoch 5/15\n",
      "1223/1223 [==============================] - 39s 32ms/step - loss: 0.9099 - accuracy: 0.6571\n",
      "Epoch 6/15\n",
      "1223/1223 [==============================] - 37s 30ms/step - loss: 0.8358 - accuracy: 0.6879\n",
      "Epoch 7/15\n",
      "1223/1223 [==============================] - 39s 32ms/step - loss: 0.7590 - accuracy: 0.7172\n",
      "Epoch 8/15\n",
      "1223/1223 [==============================] - 37s 30ms/step - loss: 0.6785 - accuracy: 0.7477\n",
      "Epoch 9/15\n",
      "1223/1223 [==============================] - 43s 35ms/step - loss: 0.5996 - accuracy: 0.7781\n",
      "Epoch 10/15\n",
      "1223/1223 [==============================] - 44s 36ms/step - loss: 0.5197 - accuracy: 0.8110\n",
      "Epoch 11/15\n",
      "1223/1223 [==============================] - 41s 33ms/step - loss: 0.4416 - accuracy: 0.8399\n",
      "Epoch 12/15\n",
      "1223/1223 [==============================] - 42s 34ms/step - loss: 0.3688 - accuracy: 0.8684\n",
      "Epoch 13/15\n",
      "1223/1223 [==============================] - 40s 33ms/step - loss: 0.3129 - accuracy: 0.8875\n",
      "Epoch 14/15\n",
      "1223/1223 [==============================] - 40s 33ms/step - loss: 0.2646 - accuracy: 0.9077\n",
      "Epoch 15/15\n",
      "1223/1223 [==============================] - 40s 32ms/step - loss: 0.2236 - accuracy: 0.9234\n"
     ]
    }
   ],
   "source": [
    "modl = model.fit(x=Xtrain, y=Ytrain, epochs=15)"
   ]
  },
  {
   "cell_type": "code",
   "execution_count": 10,
   "metadata": {
    "id": "q4gNmbN081YO"
   },
   "outputs": [],
   "source": [
    "import cv2\n",
    "\n",
    "img = cv2.imread('D:/Downloads/human.jfif')\n",
    "\n",
    "gray = cv2.cvtColor(img, cv2.COLOR_BGR2GRAY)"
   ]
  },
  {
   "cell_type": "code",
   "execution_count": 11,
   "metadata": {},
   "outputs": [
    {
     "name": "stdout",
     "output_type": "stream",
     "text": [
      "[1.3228523e-03 1.6258694e-11 7.5452757e-01 1.8056437e-09 2.0092340e-01\n",
      " 1.1869389e-02 3.1356856e-02]\n"
     ]
    }
   ],
   "source": [
    "from tensorflow.keras.preprocessing import image\n",
    "gray = cv2.resize(gray, (48,48))\n",
    "x = image.img_to_array(gray)\n",
    "x = x/255\n",
    "x = np.expand_dims(x, axis=0)\n",
    "images = np.vstack([x])\n",
    "classes = model.predict(images, batch_size=10)\n",
    "print(classes[0])"
   ]
  },
  {
   "cell_type": "code",
   "execution_count": 22,
   "metadata": {},
   "outputs": [
    {
     "data": {
      "image/png": "[encoded data removed]",
      "text/plain": [
       "<Figure size 720x720 with 1 Axes>"
      ]
     },
     "metadata": {
      "needs_background": "light"
     },
     "output_type": "display_data"
    }
   ],
   "source": [
    "fig = plt.figure(figsize= (10,10))\n",
    "plt.plot(modl.history['loss'], 'ro-')\n",
    "plt.title('Loss')\n",
    "plt.show()"
   ]
  },
  {
   "cell_type": "code",
   "execution_count": 24,
   "metadata": {},
   "outputs": [
    {
     "data": {
      "image/png": "[encoded data removed]",
      "text/plain": [
       "<Figure size 720x720 with 1 Axes>"
      ]
     },
     "metadata": {
      "needs_background": "light"
     },
     "output_type": "display_data"
    }
   ],
   "source": [
    "fig = plt.figure(figsize=(10, 10))\n",
    "plt.plot(modl.history['accuracy'], 'go-')\n",
    "plt.title('Accuracy')\n",
    "plt.show()"
   ]
  },
  {
   "cell_type": "code",
   "execution_count": null,
   "metadata": {},
   "outputs": [],
   "source": []
  }
 ],
 "metadata": {
  "colab": {
   "collapsed_sections": [],
   "name": "Facial.ipynb",
   "provenance": []
  },
  "kernelspec": {
   "display_name": "Python 3",
   "language": "python",
   "name": "python3"
  },
  "language_info": {
   "codemirror_mode": {
    "name": "ipython",
    "version": 3
   },
   "file_extension": ".py",
   "mimetype": "text/x-python",
   "name": "python",
   "nbconvert_exporter": "python",
   "pygments_lexer": "ipython3",
   "version": "3.8.5"
  }
 },
 "nbformat": 4,
 "nbformat_minor": 1
}
